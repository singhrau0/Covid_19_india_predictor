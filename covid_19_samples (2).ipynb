{
 "cells": [
  {
   "cell_type": "markdown",
   "id": "commercial-france",
   "metadata": {},
   "source": [
    "# importing all our important library"
   ]
  },
  {
   "cell_type": "code",
   "execution_count": 1,
   "id": "conditional-joyce",
   "metadata": {},
   "outputs": [],
   "source": [
    "import pandas as pd\n",
    "import numpy as np\n",
    "import matplotlib.pyplot as plt\n",
    "import seaborn as sns\n",
    "%matplotlib inline\n",
    "import datetime as dt\n",
    "import time\n",
    "import ipywidgets\n",
    "#from ipython.display import display\n"
   ]
  },
  {
   "cell_type": "code",
   "execution_count": 2,
   "id": "laughing-rochester",
   "metadata": {},
   "outputs": [],
   "source": [
    "data1 = pd.read_csv(\"StatewiseTestingDetails2.csv\",dayfirst = True)"
   ]
  },
  {
   "cell_type": "code",
   "execution_count": 3,
   "id": "prompt-idaho",
   "metadata": {},
   "outputs": [
    {
     "data": {
      "text/html": [
       "<div>\n",
       "<style scoped>\n",
       "    .dataframe tbody tr th:only-of-type {\n",
       "        vertical-align: middle;\n",
       "    }\n",
       "\n",
       "    .dataframe tbody tr th {\n",
       "        vertical-align: top;\n",
       "    }\n",
       "\n",
       "    .dataframe thead th {\n",
       "        text-align: right;\n",
       "    }\n",
       "</style>\n",
       "<table border=\"1\" class=\"dataframe\">\n",
       "  <thead>\n",
       "    <tr style=\"text-align: right;\">\n",
       "      <th></th>\n",
       "      <th>Date</th>\n",
       "      <th>State</th>\n",
       "      <th>TotalSamples</th>\n",
       "      <th>Negative</th>\n",
       "      <th>Positive</th>\n",
       "    </tr>\n",
       "  </thead>\n",
       "  <tbody>\n",
       "    <tr>\n",
       "      <th>13398</th>\n",
       "      <td>2021-05-14</td>\n",
       "      <td>West Bengal</td>\n",
       "      <td>11309467.0</td>\n",
       "      <td>NaN</td>\n",
       "      <td>NaN</td>\n",
       "    </tr>\n",
       "    <tr>\n",
       "      <th>13399</th>\n",
       "      <td>2021-05-15</td>\n",
       "      <td>West Bengal</td>\n",
       "      <td>11376030.0</td>\n",
       "      <td>NaN</td>\n",
       "      <td>NaN</td>\n",
       "    </tr>\n",
       "    <tr>\n",
       "      <th>13400</th>\n",
       "      <td>2021-05-16</td>\n",
       "      <td>West Bengal</td>\n",
       "      <td>11440579.0</td>\n",
       "      <td>NaN</td>\n",
       "      <td>NaN</td>\n",
       "    </tr>\n",
       "    <tr>\n",
       "      <th>13401</th>\n",
       "      <td>2021-05-17</td>\n",
       "      <td>West Bengal</td>\n",
       "      <td>11500373.0</td>\n",
       "      <td>NaN</td>\n",
       "      <td>NaN</td>\n",
       "    </tr>\n",
       "    <tr>\n",
       "      <th>13402</th>\n",
       "      <td>2021-05-18</td>\n",
       "      <td>West Bengal</td>\n",
       "      <td>11567999.0</td>\n",
       "      <td>NaN</td>\n",
       "      <td>NaN</td>\n",
       "    </tr>\n",
       "  </tbody>\n",
       "</table>\n",
       "</div>"
      ],
      "text/plain": [
       "             Date        State  TotalSamples Negative  Positive\n",
       "13398  2021-05-14  West Bengal    11309467.0      NaN       NaN\n",
       "13399  2021-05-15  West Bengal    11376030.0      NaN       NaN\n",
       "13400  2021-05-16  West Bengal    11440579.0      NaN       NaN\n",
       "13401  2021-05-17  West Bengal    11500373.0      NaN       NaN\n",
       "13402  2021-05-18  West Bengal    11567999.0      NaN       NaN"
      ]
     },
     "execution_count": 3,
     "metadata": {},
     "output_type": "execute_result"
    }
   ],
   "source": [
    "data1.tail()"
   ]
  },
  {
   "cell_type": "markdown",
   "id": "active-driving",
   "metadata": {},
   "source": [
    "# Data Cleaning Process"
   ]
  },
  {
   "cell_type": "code",
   "execution_count": 4,
   "id": "blind-budapest",
   "metadata": {},
   "outputs": [],
   "source": [
    "#Since there is too much NaN values hence we have to replace that with some value"
   ]
  },
  {
   "cell_type": "code",
   "execution_count": 5,
   "id": "administrative-singapore",
   "metadata": {},
   "outputs": [
    {
     "data": {
      "text/plain": [
       "Date               0\n",
       "State              0\n",
       "TotalSamples       0\n",
       "Negative        7273\n",
       "Positive        7959\n",
       "dtype: int64"
      ]
     },
     "execution_count": 5,
     "metadata": {},
     "output_type": "execute_result"
    }
   ],
   "source": [
    "data1.isnull().sum()"
   ]
  },
  {
   "cell_type": "code",
   "execution_count": 6,
   "id": "geographic-oxide",
   "metadata": {},
   "outputs": [],
   "source": [
    "#since there is too much NaN value which is highly unpredictable hence we are going to work only on total samples predictor"
   ]
  },
  {
   "cell_type": "code",
   "execution_count": 7,
   "id": "exposed-arlington",
   "metadata": {},
   "outputs": [],
   "source": [
    "new_data = data1[[\"Date\",\"State\",\"TotalSamples\"]]\n",
    "#new_data.head()"
   ]
  },
  {
   "cell_type": "code",
   "execution_count": 8,
   "id": "ethical-frost",
   "metadata": {},
   "outputs": [],
   "source": [
    "new_data = new_data.rename(columns = {\"Date\":\"date\",\"State\":\"state\",\"TotalSamples\":\"total_samples\"})"
   ]
  },
  {
   "cell_type": "code",
   "execution_count": 9,
   "id": "helpful-battlefield",
   "metadata": {},
   "outputs": [],
   "source": [
    "new_data[\"date\"] = pd.to_datetime(new_data[\"date\"])"
   ]
  },
  {
   "cell_type": "code",
   "execution_count": 10,
   "id": "disturbed-monthly",
   "metadata": {},
   "outputs": [
    {
     "data": {
      "text/plain": [
       "date             0\n",
       "state            0\n",
       "total_samples    0\n",
       "dtype: int64"
      ]
     },
     "execution_count": 10,
     "metadata": {},
     "output_type": "execute_result"
    }
   ],
   "source": [
    "new_data.isnull().sum()"
   ]
  },
  {
   "cell_type": "markdown",
   "id": "empirical-relations",
   "metadata": {},
   "source": [
    "# Data Visualisation through Graph "
   ]
  },
  {
   "cell_type": "code",
   "execution_count": 11,
   "id": "excited-savage",
   "metadata": {},
   "outputs": [],
   "source": [
    "temp_state = new_data.state.unique()\n",
    "new_temp_state = ipywidgets.Dropdown(\n",
    "                options=temp_state,\n",
    "                #options = temp_value\n",
    "                value=temp_state[0],\n",
    "                description='Select state:',\n",
    "                disabled=False,\n",
    "                )\n",
    "def select (select):\n",
    "    temp2_state = new_data[new_data.state == new_temp_state.value]\n",
    "    #print(\"first\",new_temp_state)\n",
    "    #print(\"second\",temp2_state)\n",
    "        \n",
    "    sns.set(rc = {'figure.figsize':(15,10)})\n",
    "    sns.scatterplot(x = \"date\", y = \"total_samples\", data = temp2_state, color = \"g\")\n",
    "    #data_select(data_select2)\n",
    "    #ipywidgets.interact(data_select, data_select = data_select2)"
   ]
  },
  {
   "cell_type": "code",
   "execution_count": 12,
   "id": "better-costa",
   "metadata": {},
   "outputs": [
    {
     "data": {
      "application/vnd.jupyter.widget-view+json": {
       "model_id": "c7fcc5806be1474ab3f928b53fed8186",
       "version_major": 2,
       "version_minor": 0
      },
      "text/plain": [
       "interactive(children=(Dropdown(description='Select state:', options=('Andaman and Nicobar Islands', 'Andhra Pr…"
      ]
     },
     "metadata": {},
     "output_type": "display_data"
    },
    {
     "data": {
      "text/plain": [
       "<function __main__.select(select)>"
      ]
     },
     "execution_count": 12,
     "metadata": {},
     "output_type": "execute_result"
    }
   ],
   "source": [
    "ipywidgets.interact(select, select = new_temp_state)"
   ]
  },
  {
   "cell_type": "markdown",
   "id": "grave-bridges",
   "metadata": {},
   "source": [
    "# Here we are predicting total samples in future"
   ]
  },
  {
   "cell_type": "code",
   "execution_count": 13,
   "id": "focused-colon",
   "metadata": {},
   "outputs": [
    {
     "data": {
      "application/vnd.jupyter.widget-view+json": {
       "model_id": "d20db2ea88444165943556a7e27cda04",
       "version_major": 2,
       "version_minor": 0
      },
      "text/plain": [
       "Dropdown(description='Select state:', options=('Andaman and Nicobar Islands', 'Andhra Pradesh', 'Arunachal Pra…"
      ]
     },
     "metadata": {},
     "output_type": "display_data"
    }
   ],
   "source": [
    "select_date = ipywidgets.DatePicker(\n",
    "    description='Pick a Date',\n",
    "    disabled=False\n",
    "    )\n",
    "    #creating predict_data function for returning the future cases depend upon the user selection\n",
    "def predict_data(prediction):\n",
    "    from sklearn.model_selection import train_test_split\n",
    "    #print(\"first\",new_temp_state)\n",
    "    temp_state_value = new_data[new_data.state == new_temp_state.value]\n",
    "    temp_state_value['date'] = temp_state_value['date'].map(dt.datetime.toordinal)\n",
    "    #print(\"second\",temp_state_value['date'])\n",
    "    #temp_state_value.head()\n",
    "    x = temp_state_value['date']\n",
    "    #print(temp)\n",
    "    y = temp_state_value['total_samples']\n",
    "    x_train,x_test,y_train,y_test = train_test_split(x,y,test_size=0.3)\n",
    "    from sklearn.ensemble import RandomForestRegressor\n",
    "    rf = RandomForestRegressor()\n",
    "    rf.fit(np.array(x_train).reshape(-1,1),np.array(y_train).reshape(-1,1))\n",
    "    #print(select_date.value)\n",
    "    x = None\n",
    "    choose_date = select_date.value\n",
    "    #print(choose_date)\n",
    "    choose_date2 = dt.date.today()\n",
    "    #choose_date = choose_date.toordinal()\n",
    "    choose_date2 = choose_date2.toordinal()\n",
    "    if choose_date == x:\n",
    "        result = rf.predict([[choose_date2]])\n",
    "    if choose_date != x:\n",
    "        choose_date = choose_date.toordinal()\n",
    "        result = rf.predict([[choose_date]])\n",
    "    #print(result)\n",
    "    return result\n",
    "new_temp_state"
   ]
  },
  {
   "cell_type": "code",
   "execution_count": 14,
   "id": "million-climb",
   "metadata": {},
   "outputs": [
    {
     "data": {
      "application/vnd.jupyter.widget-view+json": {
       "model_id": "a9732841a25c42d39f148632202d90b7",
       "version_major": 2,
       "version_minor": 0
      },
      "text/plain": [
       "interactive(children=(DatePicker(value=None, description='Pick a Date'), Output()), _dom_classes=('widget-inte…"
      ]
     },
     "metadata": {},
     "output_type": "display_data"
    },
    {
     "data": {
      "text/plain": [
       "<function __main__.predict_data(prediction)>"
      ]
     },
     "execution_count": 14,
     "metadata": {},
     "output_type": "execute_result"
    }
   ],
   "source": [
    "ipywidgets.interact(predict_data, prediction = select_date)"
   ]
  },
  {
   "cell_type": "code",
   "execution_count": null,
   "id": "practical-petroleum",
   "metadata": {},
   "outputs": [],
   "source": []
  }
 ],
 "metadata": {
  "kernelspec": {
   "display_name": "Python 3",
   "language": "python",
   "name": "python3"
  },
  "language_info": {
   "codemirror_mode": {
    "name": "ipython",
    "version": 3
   },
   "file_extension": ".py",
   "mimetype": "text/x-python",
   "name": "python",
   "nbconvert_exporter": "python",
   "pygments_lexer": "ipython3",
   "version": "3.8.5"
  }
 },
 "nbformat": 4,
 "nbformat_minor": 5
}
