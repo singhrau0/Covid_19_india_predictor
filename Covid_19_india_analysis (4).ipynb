{
 "cells": [
  {
   "cell_type": "markdown",
   "id": "correct-adrian",
   "metadata": {},
   "source": [
    "# Importing Important File regarding Analysis"
   ]
  },
  {
   "cell_type": "code",
   "execution_count": 1,
   "id": "fantastic-coral",
   "metadata": {},
   "outputs": [],
   "source": [
    "import pandas as pd\n",
    "import numpy as np\n",
    "import matplotlib.pyplot as plt\n",
    "import seaborn as sns\n",
    "%matplotlib inline\n",
    "import datetime as dt\n",
    "import time\n",
    "import ipywidgets\n",
    "#from ipython.display import display\n"
   ]
  },
  {
   "cell_type": "code",
   "execution_count": 2,
   "id": "affected-ladder",
   "metadata": {},
   "outputs": [],
   "source": [
    "data1 = pd.read_csv(\"covid_19_india (1).csv\",dayfirst=True)"
   ]
  },
  {
   "cell_type": "code",
   "execution_count": 3,
   "id": "sticky-franchise",
   "metadata": {},
   "outputs": [
    {
     "data": {
      "text/html": [
       "<div>\n",
       "<style scoped>\n",
       "    .dataframe tbody tr th:only-of-type {\n",
       "        vertical-align: middle;\n",
       "    }\n",
       "\n",
       "    .dataframe tbody tr th {\n",
       "        vertical-align: top;\n",
       "    }\n",
       "\n",
       "    .dataframe thead th {\n",
       "        text-align: right;\n",
       "    }\n",
       "</style>\n",
       "<table border=\"1\" class=\"dataframe\">\n",
       "  <thead>\n",
       "    <tr style=\"text-align: right;\">\n",
       "      <th></th>\n",
       "      <th>Sno</th>\n",
       "      <th>Date</th>\n",
       "      <th>Time</th>\n",
       "      <th>State/UnionTerritory</th>\n",
       "      <th>ConfirmedIndianNational</th>\n",
       "      <th>ConfirmedForeignNational</th>\n",
       "      <th>Cured</th>\n",
       "      <th>Deaths</th>\n",
       "      <th>Confirmed</th>\n",
       "    </tr>\n",
       "  </thead>\n",
       "  <tbody>\n",
       "    <tr>\n",
       "      <th>0</th>\n",
       "      <td>1.0</td>\n",
       "      <td>2020-01-30</td>\n",
       "      <td>6:00 PM</td>\n",
       "      <td>Kerala</td>\n",
       "      <td>1</td>\n",
       "      <td>0</td>\n",
       "      <td>0.0</td>\n",
       "      <td>0.0</td>\n",
       "      <td>1.0</td>\n",
       "    </tr>\n",
       "    <tr>\n",
       "      <th>1</th>\n",
       "      <td>2.0</td>\n",
       "      <td>2020-01-31</td>\n",
       "      <td>6:00 PM</td>\n",
       "      <td>Kerala</td>\n",
       "      <td>1</td>\n",
       "      <td>0</td>\n",
       "      <td>0.0</td>\n",
       "      <td>0.0</td>\n",
       "      <td>1.0</td>\n",
       "    </tr>\n",
       "    <tr>\n",
       "      <th>2</th>\n",
       "      <td>3.0</td>\n",
       "      <td>2020-02-01</td>\n",
       "      <td>6:00 PM</td>\n",
       "      <td>Kerala</td>\n",
       "      <td>2</td>\n",
       "      <td>0</td>\n",
       "      <td>0.0</td>\n",
       "      <td>0.0</td>\n",
       "      <td>2.0</td>\n",
       "    </tr>\n",
       "    <tr>\n",
       "      <th>3</th>\n",
       "      <td>4.0</td>\n",
       "      <td>2020-02-02</td>\n",
       "      <td>6:00 PM</td>\n",
       "      <td>Kerala</td>\n",
       "      <td>3</td>\n",
       "      <td>0</td>\n",
       "      <td>0.0</td>\n",
       "      <td>0.0</td>\n",
       "      <td>3.0</td>\n",
       "    </tr>\n",
       "    <tr>\n",
       "      <th>4</th>\n",
       "      <td>5.0</td>\n",
       "      <td>2020-02-03</td>\n",
       "      <td>6:00 PM</td>\n",
       "      <td>Kerala</td>\n",
       "      <td>3</td>\n",
       "      <td>0</td>\n",
       "      <td>0.0</td>\n",
       "      <td>0.0</td>\n",
       "      <td>3.0</td>\n",
       "    </tr>\n",
       "    <tr>\n",
       "      <th>...</th>\n",
       "      <td>...</td>\n",
       "      <td>...</td>\n",
       "      <td>...</td>\n",
       "      <td>...</td>\n",
       "      <td>...</td>\n",
       "      <td>...</td>\n",
       "      <td>...</td>\n",
       "      <td>...</td>\n",
       "      <td>...</td>\n",
       "    </tr>\n",
       "    <tr>\n",
       "      <th>15109</th>\n",
       "      <td>NaN</td>\n",
       "      <td>NaN</td>\n",
       "      <td>NaN</td>\n",
       "      <td>NaN</td>\n",
       "      <td>NaN</td>\n",
       "      <td>NaN</td>\n",
       "      <td>NaN</td>\n",
       "      <td>NaN</td>\n",
       "      <td>NaN</td>\n",
       "    </tr>\n",
       "    <tr>\n",
       "      <th>15110</th>\n",
       "      <td>NaN</td>\n",
       "      <td>NaN</td>\n",
       "      <td>NaN</td>\n",
       "      <td>NaN</td>\n",
       "      <td>NaN</td>\n",
       "      <td>NaN</td>\n",
       "      <td>NaN</td>\n",
       "      <td>NaN</td>\n",
       "      <td>NaN</td>\n",
       "    </tr>\n",
       "    <tr>\n",
       "      <th>15111</th>\n",
       "      <td>NaN</td>\n",
       "      <td>NaN</td>\n",
       "      <td>NaN</td>\n",
       "      <td>NaN</td>\n",
       "      <td>NaN</td>\n",
       "      <td>NaN</td>\n",
       "      <td>NaN</td>\n",
       "      <td>NaN</td>\n",
       "      <td>NaN</td>\n",
       "    </tr>\n",
       "    <tr>\n",
       "      <th>15112</th>\n",
       "      <td>NaN</td>\n",
       "      <td>NaN</td>\n",
       "      <td>NaN</td>\n",
       "      <td>NaN</td>\n",
       "      <td>NaN</td>\n",
       "      <td>NaN</td>\n",
       "      <td>NaN</td>\n",
       "      <td>NaN</td>\n",
       "      <td>NaN</td>\n",
       "    </tr>\n",
       "    <tr>\n",
       "      <th>15113</th>\n",
       "      <td>NaN</td>\n",
       "      <td>NaN</td>\n",
       "      <td>NaN</td>\n",
       "      <td>NaN</td>\n",
       "      <td>NaN</td>\n",
       "      <td>NaN</td>\n",
       "      <td>NaN</td>\n",
       "      <td>NaN</td>\n",
       "      <td>NaN</td>\n",
       "    </tr>\n",
       "  </tbody>\n",
       "</table>\n",
       "<p>15114 rows × 9 columns</p>\n",
       "</div>"
      ],
      "text/plain": [
       "       Sno        Date     Time State/UnionTerritory ConfirmedIndianNational  \\\n",
       "0      1.0  2020-01-30  6:00 PM               Kerala                       1   \n",
       "1      2.0  2020-01-31  6:00 PM               Kerala                       1   \n",
       "2      3.0  2020-02-01  6:00 PM               Kerala                       2   \n",
       "3      4.0  2020-02-02  6:00 PM               Kerala                       3   \n",
       "4      5.0  2020-02-03  6:00 PM               Kerala                       3   \n",
       "...    ...         ...      ...                  ...                     ...   \n",
       "15109  NaN         NaN      NaN                  NaN                     NaN   \n",
       "15110  NaN         NaN      NaN                  NaN                     NaN   \n",
       "15111  NaN         NaN      NaN                  NaN                     NaN   \n",
       "15112  NaN         NaN      NaN                  NaN                     NaN   \n",
       "15113  NaN         NaN      NaN                  NaN                     NaN   \n",
       "\n",
       "      ConfirmedForeignNational  Cured  Deaths  Confirmed  \n",
       "0                            0    0.0     0.0        1.0  \n",
       "1                            0    0.0     0.0        1.0  \n",
       "2                            0    0.0     0.0        2.0  \n",
       "3                            0    0.0     0.0        3.0  \n",
       "4                            0    0.0     0.0        3.0  \n",
       "...                        ...    ...     ...        ...  \n",
       "15109                      NaN    NaN     NaN        NaN  \n",
       "15110                      NaN    NaN     NaN        NaN  \n",
       "15111                      NaN    NaN     NaN        NaN  \n",
       "15112                      NaN    NaN     NaN        NaN  \n",
       "15113                      NaN    NaN     NaN        NaN  \n",
       "\n",
       "[15114 rows x 9 columns]"
      ]
     },
     "execution_count": 3,
     "metadata": {},
     "output_type": "execute_result"
    }
   ],
   "source": [
    "data1"
   ]
  },
  {
   "cell_type": "markdown",
   "id": "adolescent-investing",
   "metadata": {},
   "source": [
    "# Data cleaning of Covid 19 india"
   ]
  },
  {
   "cell_type": "code",
   "execution_count": 4,
   "id": "taken-provincial",
   "metadata": {},
   "outputs": [],
   "source": [
    "missing_values = [\"NaN\",\"na\",\"Na\",\"-\"]\n",
    "data1 = pd.read_csv(\"covid_19_india.csv\",na_values= missing_values)"
   ]
  },
  {
   "cell_type": "code",
   "execution_count": 5,
   "id": "italic-psychology",
   "metadata": {},
   "outputs": [
    {
     "data": {
      "text/plain": [
       "Sno                             0\n",
       "Date                            0\n",
       "Time                            0\n",
       "State/UnionTerritory            0\n",
       "ConfirmedIndianNational     15108\n",
       "ConfirmedForeignNational    15108\n",
       "Cured                           0\n",
       "Deaths                          0\n",
       "Confirmed                       0\n",
       "dtype: int64"
      ]
     },
     "execution_count": 5,
     "metadata": {},
     "output_type": "execute_result"
    }
   ],
   "source": [
    "data1.isnull().sum()"
   ]
  },
  {
   "cell_type": "code",
   "execution_count": 6,
   "id": "decreased-phenomenon",
   "metadata": {},
   "outputs": [],
   "source": [
    "#Now we have seen that \"-\" means empty values. Now we gonna fill this empty value with Zero because in terms of corona cases \n",
    "# it does not effect on our data"
   ]
  },
  {
   "cell_type": "code",
   "execution_count": 7,
   "id": "effective-invalid",
   "metadata": {},
   "outputs": [],
   "source": [
    "data1 = data1.fillna(0)"
   ]
  },
  {
   "cell_type": "code",
   "execution_count": 8,
   "id": "loaded-warrior",
   "metadata": {},
   "outputs": [
    {
     "data": {
      "text/html": [
       "<div>\n",
       "<style scoped>\n",
       "    .dataframe tbody tr th:only-of-type {\n",
       "        vertical-align: middle;\n",
       "    }\n",
       "\n",
       "    .dataframe tbody tr th {\n",
       "        vertical-align: top;\n",
       "    }\n",
       "\n",
       "    .dataframe thead th {\n",
       "        text-align: right;\n",
       "    }\n",
       "</style>\n",
       "<table border=\"1\" class=\"dataframe\">\n",
       "  <thead>\n",
       "    <tr style=\"text-align: right;\">\n",
       "      <th></th>\n",
       "      <th>Sno</th>\n",
       "      <th>Date</th>\n",
       "      <th>Time</th>\n",
       "      <th>State/UnionTerritory</th>\n",
       "      <th>ConfirmedIndianNational</th>\n",
       "      <th>ConfirmedForeignNational</th>\n",
       "      <th>Cured</th>\n",
       "      <th>Deaths</th>\n",
       "      <th>Confirmed</th>\n",
       "    </tr>\n",
       "  </thead>\n",
       "  <tbody>\n",
       "    <tr>\n",
       "      <th>445</th>\n",
       "      <td>446</td>\n",
       "      <td>2020-03-28</td>\n",
       "      <td>6:00 PM</td>\n",
       "      <td>West Bengal</td>\n",
       "      <td>15.0</td>\n",
       "      <td>0.0</td>\n",
       "      <td>0</td>\n",
       "      <td>1</td>\n",
       "      <td>15</td>\n",
       "    </tr>\n",
       "    <tr>\n",
       "      <th>446</th>\n",
       "      <td>447</td>\n",
       "      <td>2020-03-29</td>\n",
       "      <td>7:30 PM</td>\n",
       "      <td>Andhra Pradesh</td>\n",
       "      <td>0.0</td>\n",
       "      <td>0.0</td>\n",
       "      <td>1</td>\n",
       "      <td>0</td>\n",
       "      <td>19</td>\n",
       "    </tr>\n",
       "  </tbody>\n",
       "</table>\n",
       "</div>"
      ],
      "text/plain": [
       "     Sno        Date     Time State/UnionTerritory  ConfirmedIndianNational  \\\n",
       "445  446  2020-03-28  6:00 PM          West Bengal                     15.0   \n",
       "446  447  2020-03-29  7:30 PM       Andhra Pradesh                      0.0   \n",
       "\n",
       "     ConfirmedForeignNational  Cured  Deaths  Confirmed  \n",
       "445                       0.0      0       1         15  \n",
       "446                       0.0      1       0         19  "
      ]
     },
     "execution_count": 8,
     "metadata": {},
     "output_type": "execute_result"
    }
   ],
   "source": [
    "data1.loc[445:446]"
   ]
  },
  {
   "cell_type": "code",
   "execution_count": 9,
   "id": "architectural-controversy",
   "metadata": {},
   "outputs": [],
   "source": [
    "data1.rename(columns = {\"State/UnionTerritory\":\"state\",\"ConfirmedIndianNational\":\"confirmed_indian\",\"ConfirmedForeignNational\":\"confirmed_foreign\"},inplace = True)"
   ]
  },
  {
   "cell_type": "code",
   "execution_count": 10,
   "id": "removable-smile",
   "metadata": {},
   "outputs": [],
   "source": [
    "#data1.isnull().sum()"
   ]
  },
  {
   "cell_type": "code",
   "execution_count": 11,
   "id": "advanced-longer",
   "metadata": {},
   "outputs": [],
   "source": [
    "#chaging date as date type"
   ]
  },
  {
   "cell_type": "code",
   "execution_count": 12,
   "id": "comparative-factory",
   "metadata": {},
   "outputs": [
    {
     "data": {
      "text/html": [
       "<div>\n",
       "<style scoped>\n",
       "    .dataframe tbody tr th:only-of-type {\n",
       "        vertical-align: middle;\n",
       "    }\n",
       "\n",
       "    .dataframe tbody tr th {\n",
       "        vertical-align: top;\n",
       "    }\n",
       "\n",
       "    .dataframe thead th {\n",
       "        text-align: right;\n",
       "    }\n",
       "</style>\n",
       "<table border=\"1\" class=\"dataframe\">\n",
       "  <thead>\n",
       "    <tr style=\"text-align: right;\">\n",
       "      <th></th>\n",
       "      <th>Sno</th>\n",
       "      <th>Date</th>\n",
       "      <th>Time</th>\n",
       "      <th>state</th>\n",
       "      <th>confirmed_indian</th>\n",
       "      <th>confirmed_foreign</th>\n",
       "      <th>Cured</th>\n",
       "      <th>Deaths</th>\n",
       "      <th>Confirmed</th>\n",
       "    </tr>\n",
       "  </thead>\n",
       "  <tbody>\n",
       "    <tr>\n",
       "      <th>0</th>\n",
       "      <td>1</td>\n",
       "      <td>2020-01-30</td>\n",
       "      <td>6:00 PM</td>\n",
       "      <td>Kerala</td>\n",
       "      <td>1.0</td>\n",
       "      <td>0.0</td>\n",
       "      <td>0</td>\n",
       "      <td>0</td>\n",
       "      <td>1</td>\n",
       "    </tr>\n",
       "    <tr>\n",
       "      <th>1</th>\n",
       "      <td>2</td>\n",
       "      <td>2020-01-31</td>\n",
       "      <td>6:00 PM</td>\n",
       "      <td>Kerala</td>\n",
       "      <td>1.0</td>\n",
       "      <td>0.0</td>\n",
       "      <td>0</td>\n",
       "      <td>0</td>\n",
       "      <td>1</td>\n",
       "    </tr>\n",
       "    <tr>\n",
       "      <th>2</th>\n",
       "      <td>3</td>\n",
       "      <td>2020-02-01</td>\n",
       "      <td>6:00 PM</td>\n",
       "      <td>Kerala</td>\n",
       "      <td>2.0</td>\n",
       "      <td>0.0</td>\n",
       "      <td>0</td>\n",
       "      <td>0</td>\n",
       "      <td>2</td>\n",
       "    </tr>\n",
       "    <tr>\n",
       "      <th>3</th>\n",
       "      <td>4</td>\n",
       "      <td>2020-02-02</td>\n",
       "      <td>6:00 PM</td>\n",
       "      <td>Kerala</td>\n",
       "      <td>3.0</td>\n",
       "      <td>0.0</td>\n",
       "      <td>0</td>\n",
       "      <td>0</td>\n",
       "      <td>3</td>\n",
       "    </tr>\n",
       "    <tr>\n",
       "      <th>4</th>\n",
       "      <td>5</td>\n",
       "      <td>2020-02-03</td>\n",
       "      <td>6:00 PM</td>\n",
       "      <td>Kerala</td>\n",
       "      <td>3.0</td>\n",
       "      <td>0.0</td>\n",
       "      <td>0</td>\n",
       "      <td>0</td>\n",
       "      <td>3</td>\n",
       "    </tr>\n",
       "  </tbody>\n",
       "</table>\n",
       "</div>"
      ],
      "text/plain": [
       "   Sno        Date     Time   state  confirmed_indian  confirmed_foreign  \\\n",
       "0    1  2020-01-30  6:00 PM  Kerala               1.0                0.0   \n",
       "1    2  2020-01-31  6:00 PM  Kerala               1.0                0.0   \n",
       "2    3  2020-02-01  6:00 PM  Kerala               2.0                0.0   \n",
       "3    4  2020-02-02  6:00 PM  Kerala               3.0                0.0   \n",
       "4    5  2020-02-03  6:00 PM  Kerala               3.0                0.0   \n",
       "\n",
       "   Cured  Deaths  Confirmed  \n",
       "0      0       0          1  \n",
       "1      0       0          1  \n",
       "2      0       0          2  \n",
       "3      0       0          3  \n",
       "4      0       0          3  "
      ]
     },
     "execution_count": 12,
     "metadata": {},
     "output_type": "execute_result"
    }
   ],
   "source": [
    "data1.head()"
   ]
  },
  {
   "cell_type": "code",
   "execution_count": 13,
   "id": "alternative-projector",
   "metadata": {},
   "outputs": [],
   "source": [
    "data1[\"Date\"] = pd.to_datetime(data1[\"Date\"])\n",
    "data1[\"confirmed_indian\"] = pd.to_numeric(data1[\"confirmed_indian\"])"
   ]
  },
  {
   "cell_type": "code",
   "execution_count": 14,
   "id": "forty-soccer",
   "metadata": {},
   "outputs": [
    {
     "data": {
      "text/plain": [
       "Sno                           int64\n",
       "Date                 datetime64[ns]\n",
       "Time                         object\n",
       "state                        object\n",
       "confirmed_indian            float64\n",
       "confirmed_foreign           float64\n",
       "Cured                         int64\n",
       "Deaths                        int64\n",
       "Confirmed                     int64\n",
       "dtype: object"
      ]
     },
     "execution_count": 14,
     "metadata": {},
     "output_type": "execute_result"
    }
   ],
   "source": [
    "data1.dtypes"
   ]
  },
  {
   "cell_type": "code",
   "execution_count": 15,
   "id": "played-affair",
   "metadata": {},
   "outputs": [],
   "source": [
    "# Now we are going to analyise state wise data of covid"
   ]
  },
  {
   "cell_type": "code",
   "execution_count": 16,
   "id": "exterior-communications",
   "metadata": {},
   "outputs": [],
   "source": [
    "data1 = data1[[\"Date\",\"state\",\"Cured\",\"Deaths\",\"Confirmed\"]]"
   ]
  },
  {
   "cell_type": "code",
   "execution_count": 17,
   "id": "nominated-tiffany",
   "metadata": {},
   "outputs": [],
   "source": [
    "data1.columns = [\"date\",\"state\",\"cured\",\"death\",\"confirmed\"]"
   ]
  },
  {
   "cell_type": "code",
   "execution_count": 18,
   "id": "necessary-american",
   "metadata": {},
   "outputs": [
    {
     "data": {
      "text/html": [
       "<div>\n",
       "<style scoped>\n",
       "    .dataframe tbody tr th:only-of-type {\n",
       "        vertical-align: middle;\n",
       "    }\n",
       "\n",
       "    .dataframe tbody tr th {\n",
       "        vertical-align: top;\n",
       "    }\n",
       "\n",
       "    .dataframe thead th {\n",
       "        text-align: right;\n",
       "    }\n",
       "</style>\n",
       "<table border=\"1\" class=\"dataframe\">\n",
       "  <thead>\n",
       "    <tr style=\"text-align: right;\">\n",
       "      <th></th>\n",
       "      <th>date</th>\n",
       "      <th>state</th>\n",
       "      <th>cured</th>\n",
       "      <th>death</th>\n",
       "      <th>confirmed</th>\n",
       "    </tr>\n",
       "  </thead>\n",
       "  <tbody>\n",
       "    <tr>\n",
       "      <th>0</th>\n",
       "      <td>2020-01-30</td>\n",
       "      <td>Kerala</td>\n",
       "      <td>0</td>\n",
       "      <td>0</td>\n",
       "      <td>1</td>\n",
       "    </tr>\n",
       "    <tr>\n",
       "      <th>1</th>\n",
       "      <td>2020-01-31</td>\n",
       "      <td>Kerala</td>\n",
       "      <td>0</td>\n",
       "      <td>0</td>\n",
       "      <td>1</td>\n",
       "    </tr>\n",
       "    <tr>\n",
       "      <th>2</th>\n",
       "      <td>2020-02-01</td>\n",
       "      <td>Kerala</td>\n",
       "      <td>0</td>\n",
       "      <td>0</td>\n",
       "      <td>2</td>\n",
       "    </tr>\n",
       "    <tr>\n",
       "      <th>3</th>\n",
       "      <td>2020-02-02</td>\n",
       "      <td>Kerala</td>\n",
       "      <td>0</td>\n",
       "      <td>0</td>\n",
       "      <td>3</td>\n",
       "    </tr>\n",
       "    <tr>\n",
       "      <th>4</th>\n",
       "      <td>2020-02-03</td>\n",
       "      <td>Kerala</td>\n",
       "      <td>0</td>\n",
       "      <td>0</td>\n",
       "      <td>3</td>\n",
       "    </tr>\n",
       "  </tbody>\n",
       "</table>\n",
       "</div>"
      ],
      "text/plain": [
       "        date   state  cured  death  confirmed\n",
       "0 2020-01-30  Kerala      0      0          1\n",
       "1 2020-01-31  Kerala      0      0          1\n",
       "2 2020-02-01  Kerala      0      0          2\n",
       "3 2020-02-02  Kerala      0      0          3\n",
       "4 2020-02-03  Kerala      0      0          3"
      ]
     },
     "execution_count": 18,
     "metadata": {},
     "output_type": "execute_result"
    }
   ],
   "source": [
    "data1.head()"
   ]
  },
  {
   "cell_type": "code",
   "execution_count": 19,
   "id": "postal-distribution",
   "metadata": {
    "scrolled": true
   },
   "outputs": [
    {
     "data": {
      "text/html": [
       "<div>\n",
       "<style scoped>\n",
       "    .dataframe tbody tr th:only-of-type {\n",
       "        vertical-align: middle;\n",
       "    }\n",
       "\n",
       "    .dataframe tbody tr th {\n",
       "        vertical-align: top;\n",
       "    }\n",
       "\n",
       "    .dataframe thead th {\n",
       "        text-align: right;\n",
       "    }\n",
       "</style>\n",
       "<table border=\"1\" class=\"dataframe\">\n",
       "  <thead>\n",
       "    <tr style=\"text-align: right;\">\n",
       "      <th></th>\n",
       "      <th>date</th>\n",
       "      <th>state</th>\n",
       "      <th>cured</th>\n",
       "      <th>death</th>\n",
       "      <th>confirmed</th>\n",
       "    </tr>\n",
       "  </thead>\n",
       "  <tbody>\n",
       "    <tr>\n",
       "      <th>15549</th>\n",
       "      <td>2021-06-01</td>\n",
       "      <td>Telangana</td>\n",
       "      <td>540986</td>\n",
       "      <td>3281</td>\n",
       "      <td>578351</td>\n",
       "    </tr>\n",
       "    <tr>\n",
       "      <th>15550</th>\n",
       "      <td>2021-06-01</td>\n",
       "      <td>Tripura</td>\n",
       "      <td>44908</td>\n",
       "      <td>519</td>\n",
       "      <td>51974</td>\n",
       "    </tr>\n",
       "    <tr>\n",
       "      <th>15551</th>\n",
       "      <td>2021-06-01</td>\n",
       "      <td>Uttarakhand</td>\n",
       "      <td>294671</td>\n",
       "      <td>6452</td>\n",
       "      <td>329494</td>\n",
       "    </tr>\n",
       "    <tr>\n",
       "      <th>15552</th>\n",
       "      <td>2021-06-01</td>\n",
       "      <td>Uttar Pradesh</td>\n",
       "      <td>1633947</td>\n",
       "      <td>20497</td>\n",
       "      <td>1691488</td>\n",
       "    </tr>\n",
       "    <tr>\n",
       "      <th>15553</th>\n",
       "      <td>2021-06-01</td>\n",
       "      <td>West Bengal</td>\n",
       "      <td>1273788</td>\n",
       "      <td>15541</td>\n",
       "      <td>1376377</td>\n",
       "    </tr>\n",
       "  </tbody>\n",
       "</table>\n",
       "</div>"
      ],
      "text/plain": [
       "            date          state    cured  death  confirmed\n",
       "15549 2021-06-01      Telangana   540986   3281     578351\n",
       "15550 2021-06-01        Tripura    44908    519      51974\n",
       "15551 2021-06-01    Uttarakhand   294671   6452     329494\n",
       "15552 2021-06-01  Uttar Pradesh  1633947  20497    1691488\n",
       "15553 2021-06-01    West Bengal  1273788  15541    1376377"
      ]
     },
     "execution_count": 19,
     "metadata": {},
     "output_type": "execute_result"
    }
   ],
   "source": [
    "data1.tail()"
   ]
  },
  {
   "cell_type": "code",
   "execution_count": 20,
   "id": "civilian-labor",
   "metadata": {},
   "outputs": [],
   "source": [
    "#here we are inserting rows of entire india cases"
   ]
  },
  {
   "cell_type": "code",
   "execution_count": 21,
   "id": "detected-lottery",
   "metadata": {},
   "outputs": [],
   "source": [
    "temp_data = data1\n",
    "temp_new = data1\n",
    "temp_local = data1.date.unique()\n",
    "n = len(temp_local)\n",
    "for i in range(n):\n",
    "    temp_data = data1[data1.date == temp_local[i]]\n",
    "    #print(temp_local[50],temp_data)\n",
    "    x = temp_data.cured.sum()\n",
    "    y = temp_data.death.sum()\n",
    "    z = temp_data.confirmed.sum()\n",
    "    #print(x,y,z)\n",
    "    #temp_df = {\"state\":\"india\",}\n",
    "    temp_new.loc[i] = [temp_local[i],\"india\",x,y,z]"
   ]
  },
  {
   "cell_type": "code",
   "execution_count": 59,
   "id": "known-spanking",
   "metadata": {},
   "outputs": [],
   "source": [
    "# As we can clearly see that the latest dates of data we have is of 8 may 2021 so we are going to till that day\n"
   ]
  },
  {
   "cell_type": "code",
   "execution_count": 60,
   "id": "essential-bermuda",
   "metadata": {},
   "outputs": [],
   "source": [
    "f = len(data1.index)\n",
    "#print(f)\n",
    "z = data1.date.values[f-1]\n",
    "#print(z)\n",
    "latest_date = data1[data1.date == z ]"
   ]
  },
  {
   "cell_type": "code",
   "execution_count": 61,
   "id": "pending-passing",
   "metadata": {},
   "outputs": [
    {
     "data": {
      "text/html": [
       "<div>\n",
       "<style scoped>\n",
       "    .dataframe tbody tr th:only-of-type {\n",
       "        vertical-align: middle;\n",
       "    }\n",
       "\n",
       "    .dataframe tbody tr th {\n",
       "        vertical-align: top;\n",
       "    }\n",
       "\n",
       "    .dataframe thead th {\n",
       "        text-align: right;\n",
       "    }\n",
       "</style>\n",
       "<table border=\"1\" class=\"dataframe\">\n",
       "  <thead>\n",
       "    <tr style=\"text-align: right;\">\n",
       "      <th></th>\n",
       "      <th>date</th>\n",
       "      <th>state</th>\n",
       "      <th>cured</th>\n",
       "      <th>death</th>\n",
       "      <th>confirmed</th>\n",
       "    </tr>\n",
       "  </thead>\n",
       "  <tbody>\n",
       "    <tr>\n",
       "      <th>488</th>\n",
       "      <td>2021-06-01</td>\n",
       "      <td>india</td>\n",
       "      <td>25947629</td>\n",
       "      <td>331895</td>\n",
       "      <td>28175044</td>\n",
       "    </tr>\n",
       "    <tr>\n",
       "      <th>15518</th>\n",
       "      <td>2021-06-01</td>\n",
       "      <td>Andaman and Nicobar Islands</td>\n",
       "      <td>6719</td>\n",
       "      <td>115</td>\n",
       "      <td>7005</td>\n",
       "    </tr>\n",
       "    <tr>\n",
       "      <th>15519</th>\n",
       "      <td>2021-06-01</td>\n",
       "      <td>Andhra Pradesh</td>\n",
       "      <td>1528360</td>\n",
       "      <td>10930</td>\n",
       "      <td>1693085</td>\n",
       "    </tr>\n",
       "    <tr>\n",
       "      <th>15520</th>\n",
       "      <td>2021-06-01</td>\n",
       "      <td>Arunachal Pradesh</td>\n",
       "      <td>23402</td>\n",
       "      <td>115</td>\n",
       "      <td>27272</td>\n",
       "    </tr>\n",
       "    <tr>\n",
       "      <th>15521</th>\n",
       "      <td>2021-06-01</td>\n",
       "      <td>Assam</td>\n",
       "      <td>354810</td>\n",
       "      <td>3365</td>\n",
       "      <td>411216</td>\n",
       "    </tr>\n",
       "  </tbody>\n",
       "</table>\n",
       "</div>"
      ],
      "text/plain": [
       "            date                        state     cured   death  confirmed\n",
       "488   2021-06-01                        india  25947629  331895   28175044\n",
       "15518 2021-06-01  Andaman and Nicobar Islands      6719     115       7005\n",
       "15519 2021-06-01               Andhra Pradesh   1528360   10930    1693085\n",
       "15520 2021-06-01            Arunachal Pradesh     23402     115      27272\n",
       "15521 2021-06-01                        Assam    354810    3365     411216"
      ]
     },
     "execution_count": 61,
     "metadata": {},
     "output_type": "execute_result"
    }
   ],
   "source": [
    "latest_date.head()"
   ]
  },
  {
   "cell_type": "code",
   "execution_count": 62,
   "id": "marine-contrary",
   "metadata": {},
   "outputs": [],
   "source": [
    "latest_date = latest_date.sort_values(by='confirmed',ascending=False)"
   ]
  },
  {
   "cell_type": "code",
   "execution_count": 63,
   "id": "boxed-composer",
   "metadata": {},
   "outputs": [
    {
     "data": {
      "text/html": [
       "<div>\n",
       "<style scoped>\n",
       "    .dataframe tbody tr th:only-of-type {\n",
       "        vertical-align: middle;\n",
       "    }\n",
       "\n",
       "    .dataframe tbody tr th {\n",
       "        vertical-align: top;\n",
       "    }\n",
       "\n",
       "    .dataframe thead th {\n",
       "        text-align: right;\n",
       "    }\n",
       "</style>\n",
       "<table border=\"1\" class=\"dataframe\">\n",
       "  <thead>\n",
       "    <tr style=\"text-align: right;\">\n",
       "      <th></th>\n",
       "      <th>date</th>\n",
       "      <th>state</th>\n",
       "      <th>cured</th>\n",
       "      <th>death</th>\n",
       "      <th>confirmed</th>\n",
       "    </tr>\n",
       "  </thead>\n",
       "  <tbody>\n",
       "    <tr>\n",
       "      <th>488</th>\n",
       "      <td>2021-06-01</td>\n",
       "      <td>india</td>\n",
       "      <td>25947629</td>\n",
       "      <td>331895</td>\n",
       "      <td>28175044</td>\n",
       "    </tr>\n",
       "    <tr>\n",
       "      <th>15538</th>\n",
       "      <td>2021-06-01</td>\n",
       "      <td>Maharashtra</td>\n",
       "      <td>5395370</td>\n",
       "      <td>95344</td>\n",
       "      <td>5746892</td>\n",
       "    </tr>\n",
       "    <tr>\n",
       "      <th>15533</th>\n",
       "      <td>2021-06-01</td>\n",
       "      <td>Karnataka</td>\n",
       "      <td>2261590</td>\n",
       "      <td>29090</td>\n",
       "      <td>2604431</td>\n",
       "    </tr>\n",
       "    <tr>\n",
       "      <th>15534</th>\n",
       "      <td>2021-06-01</td>\n",
       "      <td>Kerala</td>\n",
       "      <td>2310385</td>\n",
       "      <td>8815</td>\n",
       "      <td>2526579</td>\n",
       "    </tr>\n",
       "    <tr>\n",
       "      <th>15548</th>\n",
       "      <td>2021-06-01</td>\n",
       "      <td>Tamil Nadu</td>\n",
       "      <td>1770503</td>\n",
       "      <td>24232</td>\n",
       "      <td>2096516</td>\n",
       "    </tr>\n",
       "    <tr>\n",
       "      <th>15519</th>\n",
       "      <td>2021-06-01</td>\n",
       "      <td>Andhra Pradesh</td>\n",
       "      <td>1528360</td>\n",
       "      <td>10930</td>\n",
       "      <td>1693085</td>\n",
       "    </tr>\n",
       "    <tr>\n",
       "      <th>15552</th>\n",
       "      <td>2021-06-01</td>\n",
       "      <td>Uttar Pradesh</td>\n",
       "      <td>1633947</td>\n",
       "      <td>20497</td>\n",
       "      <td>1691488</td>\n",
       "    </tr>\n",
       "    <tr>\n",
       "      <th>15526</th>\n",
       "      <td>2021-06-01</td>\n",
       "      <td>Delhi</td>\n",
       "      <td>1390963</td>\n",
       "      <td>24237</td>\n",
       "      <td>1426240</td>\n",
       "    </tr>\n",
       "    <tr>\n",
       "      <th>15553</th>\n",
       "      <td>2021-06-01</td>\n",
       "      <td>West Bengal</td>\n",
       "      <td>1273788</td>\n",
       "      <td>15541</td>\n",
       "      <td>1376377</td>\n",
       "    </tr>\n",
       "    <tr>\n",
       "      <th>15524</th>\n",
       "      <td>2021-06-01</td>\n",
       "      <td>Chhattisgarh</td>\n",
       "      <td>922674</td>\n",
       "      <td>13048</td>\n",
       "      <td>971463</td>\n",
       "    </tr>\n",
       "  </tbody>\n",
       "</table>\n",
       "</div>"
      ],
      "text/plain": [
       "            date           state     cured   death  confirmed\n",
       "488   2021-06-01           india  25947629  331895   28175044\n",
       "15538 2021-06-01     Maharashtra   5395370   95344    5746892\n",
       "15533 2021-06-01       Karnataka   2261590   29090    2604431\n",
       "15534 2021-06-01          Kerala   2310385    8815    2526579\n",
       "15548 2021-06-01      Tamil Nadu   1770503   24232    2096516\n",
       "15519 2021-06-01  Andhra Pradesh   1528360   10930    1693085\n",
       "15552 2021-06-01   Uttar Pradesh   1633947   20497    1691488\n",
       "15526 2021-06-01           Delhi   1390963   24237    1426240\n",
       "15553 2021-06-01     West Bengal   1273788   15541    1376377\n",
       "15524 2021-06-01    Chhattisgarh    922674   13048     971463"
      ]
     },
     "execution_count": 63,
     "metadata": {},
     "output_type": "execute_result"
    }
   ],
   "source": [
    "latest_date.head(10)"
   ]
  },
  {
   "cell_type": "code",
   "execution_count": 64,
   "id": "dimensional-bathroom",
   "metadata": {},
   "outputs": [],
   "source": [
    "#Here above we have top most confirmed cases according to state"
   ]
  },
  {
   "cell_type": "code",
   "execution_count": 65,
   "id": "adjusted-trail",
   "metadata": {},
   "outputs": [],
   "source": [
    "#Now we are going to see graphical representation of confirmed cases"
   ]
  },
  {
   "cell_type": "code",
   "execution_count": 66,
   "id": "original-power",
   "metadata": {},
   "outputs": [],
   "source": [
    "x = 0\n",
    "y = 0"
   ]
  },
  {
   "cell_type": "code",
   "execution_count": 67,
   "id": "pharmaceutical-court",
   "metadata": {},
   "outputs": [],
   "source": [
    "state = latest_date.state"
   ]
  },
  {
   "cell_type": "markdown",
   "id": "developing-folder",
   "metadata": {},
   "source": [
    "# State v/s Confirmed cases in India by Graph"
   ]
  },
  {
   "cell_type": "code",
   "execution_count": 68,
   "id": "handmade-adventure",
   "metadata": {
    "scrolled": true
   },
   "outputs": [
    {
     "data": {
      "image/png": "[encoded data removed]",
      "text/plain": [
       "<Figure size 1440x720 with 1 Axes>"
      ]
     },
     "metadata": {},
     "output_type": "display_data"
    },
    {
     "data": {
      "image/png": "[encoded data removed]",
      "text/plain": [
       "<Figure size 1440x720 with 1 Axes>"
      ]
     },
     "metadata": {},
     "output_type": "display_data"
    },
    {
     "data": {
      "image/png": "[encoded data removed]",
      "text/plain": [
       "<Figure size 1440x720 with 1 Axes>"
      ]
     },
     "metadata": {},
     "output_type": "display_data"
    },
    {
     "data": {
      "image/png": "[encoded data removed]",
      "text/plain": [
       "<Figure size 1440x720 with 1 Axes>"
      ]
     },
     "metadata": {},
     "output_type": "display_data"
    },
    {
     "data": {
      "image/png": "[encoded data removed]",
      "text/plain": [
       "<Figure size 1440x720 with 1 Axes>"
      ]
     },
     "metadata": {},
     "output_type": "display_data"
    },
    {
     "data": {
      "image/png": "[encoded data removed]",
      "text/plain": [
       "<Figure size 1440x720 with 1 Axes>"
      ]
     },
     "metadata": {},
     "output_type": "display_data"
    },
    {
     "data": {
      "image/png": "[encoded data removed]",
      "text/plain": [
       "<Figure size 1440x720 with 1 Axes>"
      ]
     },
     "metadata": {},
     "output_type": "display_data"
    },
    {
     "ename": "ValueError",
     "evalue": "min() arg is an empty sequence",
     "output_type": "error",
     "traceback": [
      "\u001b[1;31m---------------------------------------------------------------------------\u001b[0m",
      "\u001b[1;31mValueError\u001b[0m                                Traceback (most recent call last)",
      "\u001b[1;32m<ipython-input-68-5e45e20c92bf>\u001b[0m in \u001b[0;36m<module>\u001b[1;34m\u001b[0m\n\u001b[0;32m      4\u001b[0m     \u001b[0my\u001b[0m\u001b[1;33m+=\u001b[0m\u001b[1;36m6\u001b[0m\u001b[1;33m\u001b[0m\u001b[1;33m\u001b[0m\u001b[0m\n\u001b[0;32m      5\u001b[0m     \u001b[0msns\u001b[0m\u001b[1;33m.\u001b[0m\u001b[0mset\u001b[0m\u001b[1;33m(\u001b[0m\u001b[0mrc\u001b[0m \u001b[1;33m=\u001b[0m \u001b[1;33m{\u001b[0m\u001b[1;34m'figure.figsize'\u001b[0m\u001b[1;33m:\u001b[0m\u001b[1;33m(\u001b[0m\u001b[1;36m20\u001b[0m\u001b[1;33m,\u001b[0m\u001b[1;36m10\u001b[0m\u001b[1;33m)\u001b[0m\u001b[1;33m}\u001b[0m\u001b[1;33m)\u001b[0m\u001b[1;33m\u001b[0m\u001b[1;33m\u001b[0m\u001b[0m\n\u001b[1;32m----> 6\u001b[1;33m     \u001b[0msns\u001b[0m\u001b[1;33m.\u001b[0m\u001b[0mbarplot\u001b[0m\u001b[1;33m(\u001b[0m\u001b[0mx\u001b[0m \u001b[1;33m=\u001b[0m \u001b[1;34m\"state\"\u001b[0m\u001b[1;33m,\u001b[0m \u001b[0my\u001b[0m \u001b[1;33m=\u001b[0m \u001b[1;34m\"confirmed\"\u001b[0m\u001b[1;33m,\u001b[0m \u001b[0mdata\u001b[0m \u001b[1;33m=\u001b[0m \u001b[0mnew_date\u001b[0m\u001b[1;33m,\u001b[0m \u001b[0mhue\u001b[0m \u001b[1;33m=\u001b[0m \u001b[1;34m\"state\"\u001b[0m\u001b[1;33m)\u001b[0m\u001b[1;33m\u001b[0m\u001b[1;33m\u001b[0m\u001b[0m\n\u001b[0m\u001b[0;32m      7\u001b[0m     \u001b[0mplt\u001b[0m\u001b[1;33m.\u001b[0m\u001b[0mshow\u001b[0m\u001b[1;33m(\u001b[0m\u001b[1;33m)\u001b[0m\u001b[1;33m\u001b[0m\u001b[1;33m\u001b[0m\u001b[0m\n\u001b[0;32m      8\u001b[0m     \u001b[1;31m#time.sleep(1)\u001b[0m\u001b[1;33m\u001b[0m\u001b[1;33m\u001b[0m\u001b[1;33m\u001b[0m\u001b[0m\n",
      "\u001b[1;32mc:\\users\\aman kasaudhan\\appdata\\local\\programs\\python\\python38-32\\lib\\site-packages\\seaborn\\_decorators.py\u001b[0m in \u001b[0;36minner_f\u001b[1;34m(*args, **kwargs)\u001b[0m\n\u001b[0;32m     44\u001b[0m             )\n\u001b[0;32m     45\u001b[0m         \u001b[0mkwargs\u001b[0m\u001b[1;33m.\u001b[0m\u001b[0mupdate\u001b[0m\u001b[1;33m(\u001b[0m\u001b[1;33m{\u001b[0m\u001b[0mk\u001b[0m\u001b[1;33m:\u001b[0m \u001b[0marg\u001b[0m \u001b[1;32mfor\u001b[0m \u001b[0mk\u001b[0m\u001b[1;33m,\u001b[0m \u001b[0marg\u001b[0m \u001b[1;32min\u001b[0m \u001b[0mzip\u001b[0m\u001b[1;33m(\u001b[0m\u001b[0msig\u001b[0m\u001b[1;33m.\u001b[0m\u001b[0mparameters\u001b[0m\u001b[1;33m,\u001b[0m \u001b[0margs\u001b[0m\u001b[1;33m)\u001b[0m\u001b[1;33m}\u001b[0m\u001b[1;33m)\u001b[0m\u001b[1;33m\u001b[0m\u001b[1;33m\u001b[0m\u001b[0m\n\u001b[1;32m---> 46\u001b[1;33m         \u001b[1;32mreturn\u001b[0m \u001b[0mf\u001b[0m\u001b[1;33m(\u001b[0m\u001b[1;33m**\u001b[0m\u001b[0mkwargs\u001b[0m\u001b[1;33m)\u001b[0m\u001b[1;33m\u001b[0m\u001b[1;33m\u001b[0m\u001b[0m\n\u001b[0m\u001b[0;32m     47\u001b[0m     \u001b[1;32mreturn\u001b[0m \u001b[0minner_f\u001b[0m\u001b[1;33m\u001b[0m\u001b[1;33m\u001b[0m\u001b[0m\n\u001b[0;32m     48\u001b[0m \u001b[1;33m\u001b[0m\u001b[0m\n",
      "\u001b[1;32mc:\\users\\aman kasaudhan\\appdata\\local\\programs\\python\\python38-32\\lib\\site-packages\\seaborn\\categorical.py\u001b[0m in \u001b[0;36mbarplot\u001b[1;34m(x, y, hue, data, order, hue_order, estimator, ci, n_boot, units, seed, orient, color, palette, saturation, errcolor, errwidth, capsize, dodge, ax, **kwargs)\u001b[0m\n\u001b[0;32m   3177\u001b[0m ):\n\u001b[0;32m   3178\u001b[0m \u001b[1;33m\u001b[0m\u001b[0m\n\u001b[1;32m-> 3179\u001b[1;33m     plotter = _BarPlotter(x, y, hue, data, order, hue_order,\n\u001b[0m\u001b[0;32m   3180\u001b[0m                           \u001b[0mestimator\u001b[0m\u001b[1;33m,\u001b[0m \u001b[0mci\u001b[0m\u001b[1;33m,\u001b[0m \u001b[0mn_boot\u001b[0m\u001b[1;33m,\u001b[0m \u001b[0munits\u001b[0m\u001b[1;33m,\u001b[0m \u001b[0mseed\u001b[0m\u001b[1;33m,\u001b[0m\u001b[1;33m\u001b[0m\u001b[1;33m\u001b[0m\u001b[0m\n\u001b[0;32m   3181\u001b[0m                           \u001b[0morient\u001b[0m\u001b[1;33m,\u001b[0m \u001b[0mcolor\u001b[0m\u001b[1;33m,\u001b[0m \u001b[0mpalette\u001b[0m\u001b[1;33m,\u001b[0m \u001b[0msaturation\u001b[0m\u001b[1;33m,\u001b[0m\u001b[1;33m\u001b[0m\u001b[1;33m\u001b[0m\u001b[0m\n",
      "\u001b[1;32mc:\\users\\aman kasaudhan\\appdata\\local\\programs\\python\\python38-32\\lib\\site-packages\\seaborn\\categorical.py\u001b[0m in \u001b[0;36m__init__\u001b[1;34m(self, x, y, hue, data, order, hue_order, estimator, ci, n_boot, units, seed, orient, color, palette, saturation, errcolor, errwidth, capsize, dodge)\u001b[0m\n\u001b[0;32m   1584\u001b[0m         self.establish_variables(x, y, hue, data, orient,\n\u001b[0;32m   1585\u001b[0m                                  order, hue_order, units)\n\u001b[1;32m-> 1586\u001b[1;33m         \u001b[0mself\u001b[0m\u001b[1;33m.\u001b[0m\u001b[0mestablish_colors\u001b[0m\u001b[1;33m(\u001b[0m\u001b[0mcolor\u001b[0m\u001b[1;33m,\u001b[0m \u001b[0mpalette\u001b[0m\u001b[1;33m,\u001b[0m \u001b[0msaturation\u001b[0m\u001b[1;33m)\u001b[0m\u001b[1;33m\u001b[0m\u001b[1;33m\u001b[0m\u001b[0m\n\u001b[0m\u001b[0;32m   1587\u001b[0m         \u001b[0mself\u001b[0m\u001b[1;33m.\u001b[0m\u001b[0mestimate_statistic\u001b[0m\u001b[1;33m(\u001b[0m\u001b[0mestimator\u001b[0m\u001b[1;33m,\u001b[0m \u001b[0mci\u001b[0m\u001b[1;33m,\u001b[0m \u001b[0mn_boot\u001b[0m\u001b[1;33m,\u001b[0m \u001b[0mseed\u001b[0m\u001b[1;33m)\u001b[0m\u001b[1;33m\u001b[0m\u001b[1;33m\u001b[0m\u001b[0m\n\u001b[0;32m   1588\u001b[0m \u001b[1;33m\u001b[0m\u001b[0m\n",
      "\u001b[1;32mc:\\users\\aman kasaudhan\\appdata\\local\\programs\\python\\python38-32\\lib\\site-packages\\seaborn\\categorical.py\u001b[0m in \u001b[0;36mestablish_colors\u001b[1;34m(self, color, palette, saturation)\u001b[0m\n\u001b[0;32m    317\u001b[0m         \u001b[1;31m# Determine the gray color to use for the lines framing the plot\u001b[0m\u001b[1;33m\u001b[0m\u001b[1;33m\u001b[0m\u001b[1;33m\u001b[0m\u001b[0m\n\u001b[0;32m    318\u001b[0m         \u001b[0mlight_vals\u001b[0m \u001b[1;33m=\u001b[0m \u001b[1;33m[\u001b[0m\u001b[0mcolorsys\u001b[0m\u001b[1;33m.\u001b[0m\u001b[0mrgb_to_hls\u001b[0m\u001b[1;33m(\u001b[0m\u001b[1;33m*\u001b[0m\u001b[0mc\u001b[0m\u001b[1;33m)\u001b[0m\u001b[1;33m[\u001b[0m\u001b[1;36m1\u001b[0m\u001b[1;33m]\u001b[0m \u001b[1;32mfor\u001b[0m \u001b[0mc\u001b[0m \u001b[1;32min\u001b[0m \u001b[0mrgb_colors\u001b[0m\u001b[1;33m]\u001b[0m\u001b[1;33m\u001b[0m\u001b[1;33m\u001b[0m\u001b[0m\n\u001b[1;32m--> 319\u001b[1;33m         \u001b[0mlum\u001b[0m \u001b[1;33m=\u001b[0m \u001b[0mmin\u001b[0m\u001b[1;33m(\u001b[0m\u001b[0mlight_vals\u001b[0m\u001b[1;33m)\u001b[0m \u001b[1;33m*\u001b[0m \u001b[1;36m.6\u001b[0m\u001b[1;33m\u001b[0m\u001b[1;33m\u001b[0m\u001b[0m\n\u001b[0m\u001b[0;32m    320\u001b[0m         \u001b[0mgray\u001b[0m \u001b[1;33m=\u001b[0m \u001b[0mmpl\u001b[0m\u001b[1;33m.\u001b[0m\u001b[0mcolors\u001b[0m\u001b[1;33m.\u001b[0m\u001b[0mrgb2hex\u001b[0m\u001b[1;33m(\u001b[0m\u001b[1;33m(\u001b[0m\u001b[0mlum\u001b[0m\u001b[1;33m,\u001b[0m \u001b[0mlum\u001b[0m\u001b[1;33m,\u001b[0m \u001b[0mlum\u001b[0m\u001b[1;33m)\u001b[0m\u001b[1;33m)\u001b[0m\u001b[1;33m\u001b[0m\u001b[1;33m\u001b[0m\u001b[0m\n\u001b[0;32m    321\u001b[0m \u001b[1;33m\u001b[0m\u001b[0m\n",
      "\u001b[1;31mValueError\u001b[0m: min() arg is an empty sequence"
     ]
    }
   ],
   "source": [
    "for i in range(len(state)):\n",
    "    new_date = latest_date[x:y+6]\n",
    "    x+=6\n",
    "    y+=6\n",
    "    sns.set(rc = {'figure.figsize':(20,10)})\n",
    "    sns.barplot(x = \"state\", y = \"confirmed\", data = new_date, hue = \"state\")\n",
    "    plt.show()\n",
    "    #time.sleep(1)\n",
    "    "
   ]
  },
  {
   "cell_type": "code",
   "execution_count": null,
   "id": "suffering-power",
   "metadata": {},
   "outputs": [],
   "source": [
    "#Start date of cases is from 30-01-2020 and end date is 08-05-2021 of our data "
   ]
  },
  {
   "cell_type": "markdown",
   "id": "tired-chemical",
   "metadata": {},
   "source": [
    "# Visualising the statical data of covid 19 India"
   ]
  },
  {
   "cell_type": "markdown",
   "id": "celtic-european",
   "metadata": {},
   "source": [
    "# Statewise Visualisation of (Confirmed vs Cured vs Death data of covid)"
   ]
  },
  {
   "cell_type": "code",
   "execution_count": null,
   "id": "still-vegetable",
   "metadata": {},
   "outputs": [],
   "source": [
    "#Here we are making Daily cases column in our dataset and returning new dataframe named as result_data"
   ]
  },
  {
   "cell_type": "code",
   "execution_count": null,
   "id": "tutorial-thailand",
   "metadata": {},
   "outputs": [],
   "source": [
    "list1 = []\n",
    "for i in range(len(state)):\n",
    "    new_data = data1[data1.state == state.values[i]]\n",
    "    x = 0\n",
    "    list = []\n",
    "    new_data = new_data.reset_index()\n",
    "    new_data4 = new_data.confirmed.values[0]\n",
    "    for j in range(len(new_data.confirmed)):\n",
    "        #print(\"hello\",j)\n",
    "        new_data1 = new_data.confirmed.values[j]\n",
    "        if new_data1 == new_data4:\n",
    "            new_data4 -= 10 \n",
    "            #print(\"fuck\",new_data1)\n",
    "            list.append(new_data1)\n",
    "        if new_data.index.stop != j+1:\n",
    "            new_data3 = new_data.confirmed.values[j+1] - new_data1\n",
    "            list.append(new_data3)\n",
    "        #print(list)\n",
    "    #print(\"here\",len(list))\n",
    "    new_data_state = new_data\n",
    "    new_data_state.insert(6,\"daily_cases\",list)\n",
    "    list1.append(new_data_state)\n",
    "    result_data = pd.concat(list1)\n",
    "    result_data = result_data.reset_index()"
   ]
  },
  {
   "cell_type": "code",
   "execution_count": null,
   "id": "standing-headset",
   "metadata": {},
   "outputs": [],
   "source": [
    "#Here we are using the ipywidgets of library to make our data more handy to use for users , \n",
    "#so they can select the state and look for the data"
   ]
  },
  {
   "cell_type": "code",
   "execution_count": null,
   "id": "according-shopping",
   "metadata": {},
   "outputs": [],
   "source": [
    "temp_state = latest_date.state\n",
    "new_temp_state = ipywidgets.Dropdown(\n",
    "                options=temp_state,\n",
    "                #options = temp_value\n",
    "                value=temp_state.values[0],\n",
    "                description='Select state:',\n",
    "                disabled=False,\n",
    "                )\n",
    "#print(new_temp_state.value)\n",
    "#print(data_select2.value)\n",
    "#display(new_temp_state)\n",
    "def select (select):\n",
    "    temp2_state = result_data[result_data.state == new_temp_state.value]\n",
    "    temp_value = [\"confirmed\",\"death\",\"cured\",\"daily_cases\"]\n",
    "    data_select2 = ipywidgets.Dropdown(\n",
    "                options= temp_value,\n",
    "                value=temp_value[0],\n",
    "                description='Select option:',\n",
    "                disabled=False,\n",
    "                )\n",
    "    \n",
    "    #print(\"first\",new_temp_state)\n",
    "    #print(\"second\",temp2_state)\n",
    "    def data_select(data_select):\n",
    "        \n",
    "        sns.set(rc = {'figure.figsize':(15,10)})\n",
    "        if data_select2.value == \"confirmed\":\n",
    "            plot1 = sns.lineplot(x = \"date\",y = \"confirmed\", data = temp2_state,color = \"g\")\n",
    "        elif data_select2.value == \"cured\": \n",
    "            plot2 = sns.lineplot(x = \"date\",y = \"cured\", data = temp2_state, color = \"b\")\n",
    "        elif data_select2.value ==\"death\":\n",
    "            plot3 = sns.lineplot(x = \"date\",y = \"death\", data = temp2_state, color = \"r\")\n",
    "        elif data_select2.value ==\"daily_cases\":\n",
    "            plot3 = sns.lineplot(x = \"date\",y = \"daily_cases\", data = temp2_state, color = \"y\")\n",
    "        #plt.title(new_temp_state)\n",
    "    data_select(data_select2)\n",
    "    ipywidgets.interact(data_select, data_select = data_select2)"
   ]
  },
  {
   "cell_type": "code",
   "execution_count": null,
   "id": "nutritional-milan",
   "metadata": {},
   "outputs": [],
   "source": [
    "# Here Green Line indicating Confirmed Cases of Covid in that state\n",
    "# Here Blue Line indicating Cured Cases of Covid in that state\n",
    "# Here red indicating death Cases of Covid in that state"
   ]
  },
  {
   "cell_type": "markdown",
   "id": "fallen-parade",
   "metadata": {},
   "source": [
    "# please select the state and different cases option to visualise your data"
   ]
  },
  {
   "cell_type": "code",
   "execution_count": null,
   "id": "excess-worth",
   "metadata": {},
   "outputs": [],
   "source": [
    "ipywidgets.interact(select, select = new_temp_state)"
   ]
  },
  {
   "cell_type": "markdown",
   "id": "authorized-tolerance",
   "metadata": {},
   "source": [
    "# Here we are making our prediction based on each state"
   ]
  },
  {
   "cell_type": "code",
   "execution_count": null,
   "id": "compatible-algebra",
   "metadata": {},
   "outputs": [],
   "source": [
    "#using ipywidgets library to create dropdown option for user to easily select the query\n",
    "temp_value = [\"confirmed\",\"death\",\"cured\",\"daily_cases\"]\n",
    "data_select3 = ipywidgets.Dropdown(\n",
    "            options= temp_value,\n",
    "            value=temp_value[0],\n",
    "            description='Select option:',\n",
    "            disabled=False,\n",
    "            )\n",
    "#making our ultimate state predictor function to predict our data statewise\n",
    "def ultimate_prediction(predict):\n",
    "    #creating datepicker for user\n",
    "    select_date = ipywidgets.DatePicker(\n",
    "    description='Pick a Date',\n",
    "    disabled=False\n",
    "    )\n",
    "    #creating predict_data function for returning the future cases depend upon the user selection\n",
    "    def predict_data(prediction):\n",
    "        from sklearn.model_selection import train_test_split\n",
    "        #print(\"first\",new_temp_state)\n",
    "        temp_state_value = result_data[result_data.state == new_temp_state.value]\n",
    "        temp_state_value['date'] = temp_state_value['date'].map(dt.datetime.toordinal)\n",
    "        #print(\"second\",temp_state_value['date'])\n",
    "        #temp_state_value.head()\n",
    "        x = temp_state_value['date']\n",
    "        temp = data_select3.value\n",
    "        #print(temp)\n",
    "        y = temp_state_value[temp]\n",
    "        x_train,x_test,y_train,y_test = train_test_split(x,y,test_size=0.3)\n",
    "        from sklearn.ensemble import RandomForestRegressor\n",
    "        from sklearn.linear_model import LinearRegression\n",
    "        rf = RandomForestRegressor()\n",
    "        lr = LinearRegression()\n",
    "        rf.fit(np.array(x_train).reshape(-1,1),np.array(y_train).reshape(-1,1))\n",
    "        lr.fit(np.array(x_train).reshape(-1,1),np.array(y_train).reshape(-1,1))\n",
    "        choose_date = select_date.value\n",
    "        h = None\n",
    "        #print(choose_date)\n",
    "        choose_date2 = dt.date.today()\n",
    "        choose_date2 = choose_date2.toordinal()\n",
    "        if choose_date == h:\n",
    "            result1 = rf.predict([[choose_date2]])\n",
    "            result2 = lr.predict([[choose_date2]])\n",
    "            \n",
    "        if choose_date != h:\n",
    "            choose_date = choose_date.toordinal()\n",
    "            #print(choose_date)\n",
    "            result1 = rf.predict([[choose_date]])\n",
    "            result2 = lr.predict([[choose_date]]) \n",
    "        result1 = result1.astype(int)\n",
    "        result2 = result2.astype(int)\n",
    "        print('Output from Random Forest Regressor is :',result1)\n",
    "        print('Output from Linear Regression Model is :',result2)\n",
    "        return None\n",
    "    ipywidgets.interact(predict_data, prediction = select_date)\n",
    "new_temp_state "
   ]
  },
  {
   "cell_type": "markdown",
   "id": "removed-treasurer",
   "metadata": {},
   "source": [
    "# *please select the option to avoid error"
   ]
  },
  {
   "cell_type": "markdown",
   "id": "burning-manual",
   "metadata": {},
   "source": [
    "# *please note following things"
   ]
  },
  {
   "cell_type": "markdown",
   "id": "incomplete-writing",
   "metadata": {},
   "source": [
    "### Confirmed cases is total confirmed cases untill selected day.\n",
    "### Death cases is total death cases untill selected day.\n",
    "### Cured cases is total Cures cases untill selected day.\n",
    "### daily cases is the cases only of that day you select."
   ]
  },
  {
   "cell_type": "code",
   "execution_count": null,
   "id": "statutory-comfort",
   "metadata": {},
   "outputs": [],
   "source": [
    "ipywidgets.interact(ultimate_prediction, predict = data_select3)"
   ]
  }
 ],
 "metadata": {
  "kernelspec": {
   "display_name": "Python 3",
   "language": "python",
   "name": "python3"
  },
  "language_info": {
   "codemirror_mode": {
    "name": "ipython",
    "version": 3
   },
   "file_extension": ".py",
   "mimetype": "text/x-python",
   "name": "python",
   "nbconvert_exporter": "python",
   "pygments_lexer": "ipython3",
   "version": "3.8.5"
  }
 },
 "nbformat": 4,
 "nbformat_minor": 5
}
